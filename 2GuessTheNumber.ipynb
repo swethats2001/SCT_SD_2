{
 "cells": [
  {
   "cell_type": "code",
   "execution_count": 1,
   "id": "9de6569d-d9ad-420c-a41b-c85e3382c362",
   "metadata": {},
   "outputs": [
    {
     "name": "stdout",
     "output_type": "stream",
     "text": [
      "Guess the random number between 1-100\n"
     ]
    },
    {
     "name": "stdin",
     "output_type": "stream",
     "text": [
      "Enter your guess:  50\n"
     ]
    },
    {
     "name": "stdout",
     "output_type": "stream",
     "text": [
      "Too low..Try again\n"
     ]
    },
    {
     "name": "stdin",
     "output_type": "stream",
     "text": [
      "Enter your guess:  75\n"
     ]
    },
    {
     "name": "stdout",
     "output_type": "stream",
     "text": [
      "Too high..Try again\n"
     ]
    },
    {
     "name": "stdin",
     "output_type": "stream",
     "text": [
      "Enter your guess:  60\n"
     ]
    },
    {
     "name": "stdout",
     "output_type": "stream",
     "text": [
      "Too low..Try again\n",
      "Sorry, you've used all attempts. The correct number was 66.\n"
     ]
    }
   ],
   "source": [
    "import random\n",
    "def guess_the_number():\n",
    "    number=random.randint(1,100)\n",
    "    print(\"Guess the random number between 1-100\")\n",
    "    attempts=0\n",
    "    while attempts<3:\n",
    "        try:\n",
    "            user_guess = int(input(\"Enter your guess: \"))\n",
    "            attempts += 1\n",
    "            if user_guess<number:\n",
    "                print(\"Too low..Try again\")\n",
    "            elif user_guess>number:\n",
    "                print(\"Too high..Try again\")\n",
    "            else:\n",
    "                print(f\"Congratulations! You've guessed the number {number} correctly.\")\n",
    "                break\n",
    "        except ValueError:\n",
    "            print(\"Invalid input. Please enter an integer.\")\n",
    "    if(attempts==3 and user_guess!=number):\n",
    "        print(f\"Sorry, you've used all attempts. The correct number was {number}.\")\n",
    "guess_the_number()         "
   ]
  },
  {
   "cell_type": "code",
   "execution_count": null,
   "id": "3bc766fb-411e-4ec9-bcb1-3351215cd001",
   "metadata": {},
   "outputs": [],
   "source": []
  }
 ],
 "metadata": {
  "kernelspec": {
   "display_name": "Python 3 (ipykernel)",
   "language": "python",
   "name": "python3"
  },
  "language_info": {
   "codemirror_mode": {
    "name": "ipython",
    "version": 3
   },
   "file_extension": ".py",
   "mimetype": "text/x-python",
   "name": "python",
   "nbconvert_exporter": "python",
   "pygments_lexer": "ipython3",
   "version": "3.12.7"
  }
 },
 "nbformat": 4,
 "nbformat_minor": 5
}
